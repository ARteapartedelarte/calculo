{
  "nbformat": 4,
  "nbformat_minor": 0,
  "metadata": {
    "colab": {
      "name": "Serie de Taylor en Python.ipynb",
      "provenance": [],
      "authorship_tag": "ABX9TyOb4jKXHNhlc6aZLQtp4Ax6",
      "include_colab_link": true
    },
    "kernelspec": {
      "name": "python3",
      "display_name": "Python 3"
    }
  },
  "cells": [
    {
      "cell_type": "markdown",
      "metadata": {
        "id": "view-in-github",
        "colab_type": "text"
      },
      "source": [
        "<a href=\"https://colab.research.google.com/github/joanby/calculo/blob/master/Serie_de_Taylor_en_Python.ipynb\" target=\"_parent\"><img src=\"https://colab.research.google.com/assets/colab-badge.svg\" alt=\"Open In Colab\"/></a>"
      ]
    },
    {
      "cell_type": "markdown",
      "metadata": {
        "id": "p5r-nGeUlcpA",
        "colab_type": "text"
      },
      "source": [
        "# Serie de Taylor en Python"
      ]
    },
    {
      "cell_type": "markdown",
      "metadata": {
        "id": "BLLcglQQlwcJ",
        "colab_type": "text"
      },
      "source": [
        "$$e^x = \\sum_{k=0}^n \\frac{x^k}{k!}$$"
      ]
    },
    {
      "cell_type": "code",
      "metadata": {
        "id": "9iXjVJrClP2s",
        "colab_type": "code",
        "colab": {}
      },
      "source": [
        "import math"
      ],
      "execution_count": 0,
      "outputs": []
    },
    {
      "cell_type": "code",
      "metadata": {
        "id": "PUzDVKHomIYX",
        "colab_type": "code",
        "colab": {
          "base_uri": "https://localhost:8080/",
          "height": 34
        },
        "outputId": "a3dd2f89-3fe4-4505-84c1-5b49809a7c7e"
      },
      "source": [
        "math.factorial(3)"
      ],
      "execution_count": 2,
      "outputs": [
        {
          "output_type": "execute_result",
          "data": {
            "text/plain": [
              "6"
            ]
          },
          "metadata": {
            "tags": []
          },
          "execution_count": 2
        }
      ]
    },
    {
      "cell_type": "code",
      "metadata": {
        "id": "Ka4R-9UJmMdW",
        "colab_type": "code",
        "colab": {
          "base_uri": "https://localhost:8080/",
          "height": 34
        },
        "outputId": "1f932e63-3e88-4082-e8c9-58cb08c782ee"
      },
      "source": [
        "x = 2\n",
        "e_2 = x**0/math.factorial(0)+x**1/math.factorial(1)+x**2/math.factorial(2)+x**3/math.factorial(3)+x**4/math.factorial(4)\n",
        "print(e_2)"
      ],
      "execution_count": 5,
      "outputs": [
        {
          "output_type": "stream",
          "text": [
            "7.0\n"
          ],
          "name": "stdout"
        }
      ]
    },
    {
      "cell_type": "code",
      "metadata": {
        "id": "n3aaOvX_mczB",
        "colab_type": "code",
        "colab": {
          "base_uri": "https://localhost:8080/",
          "height": 34
        },
        "outputId": "642c6228-c195-433a-a9ee-e2bfacd2f0a8"
      },
      "source": [
        "print(math.exp(2))"
      ],
      "execution_count": 6,
      "outputs": [
        {
          "output_type": "stream",
          "text": [
            "7.38905609893065\n"
          ],
          "name": "stdout"
        }
      ]
    },
    {
      "cell_type": "code",
      "metadata": {
        "id": "4tZf3vm5menC",
        "colab_type": "code",
        "colab": {}
      },
      "source": [
        "def func_e(x, n):\n",
        "  e_value = 0\n",
        "  for k in range(n): #0, 1, 2, 3, 4\n",
        "    e_value += x**k/math.factorial(k)\n",
        "  return e_value"
      ],
      "execution_count": 0,
      "outputs": []
    },
    {
      "cell_type": "code",
      "metadata": {
        "id": "RHK5IhMonHUB",
        "colab_type": "code",
        "colab": {
          "base_uri": "https://localhost:8080/",
          "height": 34
        },
        "outputId": "fa4eb419-7d08-4774-d027-c0bc098188b6"
      },
      "source": [
        "func_e(x = 2, n = 10)"
      ],
      "execution_count": 10,
      "outputs": [
        {
          "output_type": "execute_result",
          "data": {
            "text/plain": [
              "7.3887125220458545"
            ]
          },
          "metadata": {
            "tags": []
          },
          "execution_count": 10
        }
      ]
    },
    {
      "cell_type": "code",
      "metadata": {
        "id": "eCZVYR5xn5Lz",
        "colab_type": "code",
        "colab": {
          "base_uri": "https://localhost:8080/",
          "height": 34
        },
        "outputId": "4e476c1a-b607-4873-f401-8e03e06c1227"
      },
      "source": [
        "func_e(5, 7)"
      ],
      "execution_count": 11,
      "outputs": [
        {
          "output_type": "execute_result",
          "data": {
            "text/plain": [
              "113.11805555555556"
            ]
          },
          "metadata": {
            "tags": []
          },
          "execution_count": 11
        }
      ]
    },
    {
      "cell_type": "code",
      "metadata": {
        "id": "OKJWq2FToBvl",
        "colab_type": "code",
        "colab": {
          "base_uri": "https://localhost:8080/",
          "height": 34
        },
        "outputId": "27f949ee-3793-43ad-f88e-f1214760cab7"
      },
      "source": [
        "x = 5\n",
        "eps = 1e-6\n",
        "for i in range(1, 200):\n",
        "  e_app = func_e(x, i)\n",
        "  e_exa = math.exp(x)\n",
        "  e_err = abs(e_app - e_exa)\n",
        "  if e_err < eps:\n",
        "    break\n",
        "\n",
        "print(f\"Término {i}: Valor de Serie de Taylor = {e_app}, Valor real = {e_exa}, Error = {e_err}\")"
      ],
      "execution_count": 13,
      "outputs": [
        {
          "output_type": "stream",
          "text": [
            "Término 23: Valor de Serie de Taylor = 148.41315852164774, Valor real = 148.4131591025766, Error = 5.809288552427461e-07\n"
          ],
          "name": "stdout"
        }
      ]
    },
    {
      "cell_type": "code",
      "metadata": {
        "id": "aB-1y7Yto26i",
        "colab_type": "code",
        "colab": {}
      },
      "source": [
        ""
      ],
      "execution_count": 0,
      "outputs": []
    },
    {
      "cell_type": "markdown",
      "metadata": {
        "id": "bwloqVtNp8iI",
        "colab_type": "text"
      },
      "source": [
        "$$\\cos(x) = \\sum_{k=0}^n (-1)^k \\frac{x^{2k}}{(2k)!}$$"
      ]
    },
    {
      "cell_type": "code",
      "metadata": {
        "id": "xFW2pXUkp5LG",
        "colab_type": "code",
        "colab": {}
      },
      "source": [
        "def func_cos(x, n):\n",
        "  cos_value = 0\n",
        "  for k in range(n):\n",
        "    coef = (-1)**k\n",
        "    num = x**(2*k)\n",
        "    den = math.factorial(2*k)\n",
        "    cos_value += coef*num/den\n",
        "  return cos_value"
      ],
      "execution_count": 0,
      "outputs": []
    },
    {
      "cell_type": "code",
      "metadata": {
        "id": "9wNZax7YqcmF",
        "colab_type": "code",
        "colab": {
          "base_uri": "https://localhost:8080/",
          "height": 34
        },
        "outputId": "f187f40b-20c3-48f8-c9d2-ed23b26d77a9"
      },
      "source": [
        "angle = math.radians(45)\n",
        "print(func_cos(angle, 7))"
      ],
      "execution_count": 16,
      "outputs": [
        {
          "output_type": "stream",
          "text": [
            "0.7071067811869363\n"
          ],
          "name": "stdout"
        }
      ]
    },
    {
      "cell_type": "code",
      "metadata": {
        "id": "5g9sJSWuqww8",
        "colab_type": "code",
        "colab": {
          "base_uri": "https://localhost:8080/",
          "height": 34
        },
        "outputId": "4b638e6c-38cf-45c8-a3a8-f3f2d42548a7"
      },
      "source": [
        "math.cos(angle)"
      ],
      "execution_count": 17,
      "outputs": [
        {
          "output_type": "execute_result",
          "data": {
            "text/plain": [
              "0.7071067811865476"
            ]
          },
          "metadata": {
            "tags": []
          },
          "execution_count": 17
        }
      ]
    },
    {
      "cell_type": "code",
      "metadata": {
        "id": "o2NaMZO_q2vb",
        "colab_type": "code",
        "colab": {}
      },
      "source": [
        "import numpy as np\n",
        "import matplotlib.pyplot as plt\n",
        "%matplotlib inline"
      ],
      "execution_count": 0,
      "outputs": []
    },
    {
      "cell_type": "code",
      "metadata": {
        "id": "E0z84cmdrWg9",
        "colab_type": "code",
        "colab": {}
      },
      "source": [
        "angles = np.arange(-2*np.pi, 2*np.pi, 0.1)\n",
        "p_cos = np.cos(angles)"
      ],
      "execution_count": 0,
      "outputs": []
    },
    {
      "cell_type": "code",
      "metadata": {
        "id": "vJWHw2mNrvrL",
        "colab_type": "code",
        "colab": {
          "base_uri": "https://localhost:8080/",
          "height": 265
        },
        "outputId": "491a3bad-d07f-4817-d048-cbfeeaef871b"
      },
      "source": [
        "fig, ax = plt.subplots()\n",
        "ax.plot(angles, p_cos)\n",
        "\n",
        "for n in range(1, 7):\n",
        "  t_cos = [func_cos(angle, n) for angle in angles]\n",
        "  ax.plot(angles, t_cos)\n",
        "\n",
        "ax.set_ylim([-7,5])\n",
        "\n",
        "legend_list = [\"Función cos(x)\"]\n",
        "for n in range(1, 7):\n",
        "  legend_list.append(f\"Polinomio de Taylor de grado {n}\")\n",
        "ax.legend(legend_list, loc = 3)\n",
        "\n",
        "plt.show()"
      ],
      "execution_count": 21,
      "outputs": [
        {
          "output_type": "display_data",
          "data": {
            "image/png": "[encoded data removed]",
            "text/plain": [
              "<Figure size 432x288 with 1 Axes>"
            ]
          },
          "metadata": {
            "tags": [],
            "needs_background": "light"
          }
        }
      ]
    },
    {
      "cell_type": "code",
      "metadata": {
        "id": "qMN2ArMlsKS8",
        "colab_type": "code",
        "colab": {}
      },
      "source": [
        ""
      ],
      "execution_count": 0,
      "outputs": []
    }
  ]
}